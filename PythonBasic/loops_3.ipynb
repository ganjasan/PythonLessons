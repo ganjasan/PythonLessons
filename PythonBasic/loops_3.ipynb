{
 "cells": [
  {
   "cell_type": "markdown",
   "id": "b8ebbfa7-0eb8-48ef-9833-7ec7bcc3dab9",
   "metadata": {},
   "source": [
    "# For Loops - Оператор цикла for\n",
    "\n",
    "Оператор for преднозначен для последовательного прохождения по списку - итерации\n",
    "\n",
    "С оператором for мы можем применить последовательность операций к каждому элементу в списке"
   ]
  },
  {
   "cell_type": "code",
   "execution_count": 2,
   "id": "007b05a6-9a78-4257-b896-b28e9ae2bd5a",
   "metadata": {},
   "outputs": [
    {
     "name": "stdout",
     "output_type": "stream",
     "text": [
      "apple\n",
      "banana\n",
      "cherry\n"
     ]
    }
   ],
   "source": [
    "#синтаксис\n",
    "#for [value] in [list]:\n",
    "#    operator(x)\n",
    "\n",
    "fruits = [\"apple\", \"banana\", \"cherry\"]\n",
    "for x in fruits:\n",
    "  print(x)"
   ]
  },
  {
   "cell_type": "markdown",
   "id": "03614e29-4d98-4d89-b4c7-4f0f8039cea6",
   "metadata": {},
   "source": [
    "На самом деле итерировать можно не только по списку на по любому итерируемому объекту.\n",
    "Базовые итерируемые типы - list, tuple, set, string или dict"
   ]
  },
  {
   "cell_type": "code",
   "execution_count": 3,
   "id": "f10edb0d-5bbc-4f7a-a2c1-9a83d0e2b5b2",
   "metadata": {},
   "outputs": [
    {
     "name": "stdout",
     "output_type": "stream",
     "text": [
      "b\n",
      "a\n",
      "n\n",
      "a\n",
      "n\n",
      "a\n"
     ]
    }
   ],
   "source": [
    "#К примеру строки тоже являются итерируемым объектом\n",
    "for x in 'banana':\n",
    "    print(x)"
   ]
  },
  {
   "cell_type": "markdown",
   "id": "ed40e2be-d17a-4294-a605-25145cf36492",
   "metadata": {},
   "source": [
    "## Оператор break\n",
    "Оператор break вызванный внутри цикла позволяет остановить итерацию"
   ]
  },
  {
   "cell_type": "code",
   "execution_count": 4,
   "id": "5d8e32b0-175d-45a6-a986-d8dbccb92076",
   "metadata": {},
   "outputs": [
    {
     "name": "stdout",
     "output_type": "stream",
     "text": [
      "apple\n",
      "banana\n"
     ]
    }
   ],
   "source": [
    "#Прекратить итарацию по циклу когда доходим до 'banana'\n",
    "for x in fruits:\n",
    "    print(x)\n",
    "    if x == \"banana\":\n",
    "        break"
   ]
  },
  {
   "cell_type": "code",
   "execution_count": 5,
   "id": "84498f3f-6a08-4ac7-a736-56700d19e5b5",
   "metadata": {},
   "outputs": [],
   "source": [
    "#Задание\n",
    "#Изменить код так, что когда x = \"banana\" выйти из цикла,\n",
    "#при этом выйти нужно до того как будет напечатан \"banana\"\n"
   ]
  },
  {
   "cell_type": "markdown",
   "id": "ee312fa6-8766-4138-9e75-1e6158232fec",
   "metadata": {},
   "source": [
    "## Оператор continue\n",
    "Оператор continue позволяет прекратить текущую итерацию и сразу перейти к следующему элементу"
   ]
  },
  {
   "cell_type": "code",
   "execution_count": 6,
   "id": "fcc129af-fe4c-42f2-8ee7-bc80fa87e503",
   "metadata": {},
   "outputs": [
    {
     "name": "stdout",
     "output_type": "stream",
     "text": [
      "apple\n",
      "cherry\n"
     ]
    }
   ],
   "source": [
    "#Нужно напечатать все элементы кроме \"banana\" и \"orange\"\n",
    "fruits = [\"apple\", \"banana\", \"cherry\", \"orange\"]\n",
    "for x in fruits:\n",
    "  if x in [\"banana\", \"orange\"]:\n",
    "    continue\n",
    "  print(x)"
   ]
  },
  {
   "cell_type": "markdown",
   "id": "539b82d4-52f5-43f0-b96e-1f0e11c8933d",
   "metadata": {},
   "source": [
    "## Функция range()\n",
    "Если нам нужно испольнить блок кода несколько раз, мы можем использовать функцию range()\n",
    "\n",
    "range() возвращает последовательность чисел. По умолчанию последовательность начинается с 0, и увеличивается на 1 вплоть до переданного функции значения(не включая его)"
   ]
  },
  {
   "cell_type": "markdown",
   "id": "4c29014f-056d-47cf-9b6a-6c03e3ef4091",
   "metadata": {},
   "source": [
    "for x in range(6):\n",
    "  print(x)"
   ]
  },
  {
   "cell_type": "code",
   "execution_count": 8,
   "id": "bc57bbbf-a18d-4177-bebb-591212ba5cc7",
   "metadata": {},
   "outputs": [
    {
     "name": "stdout",
     "output_type": "stream",
     "text": [
      "2\n",
      "3\n",
      "4\n",
      "5\n"
     ]
    }
   ],
   "source": [
    "#Можно указать начальное значение \n",
    "#с которого будет начинаться последовательность\n",
    "for x in range(2, 6):\n",
    "  print(x)"
   ]
  },
  {
   "cell_type": "code",
   "execution_count": 14,
   "id": "9bdc3590-195f-4272-9aa3-8f076b21ada9",
   "metadata": {},
   "outputs": [
    {
     "name": "stdout",
     "output_type": "stream",
     "text": [
      "2\n",
      "5\n",
      "8\n",
      "11\n",
      "14\n",
      "17\n",
      "20\n",
      "23\n",
      "26\n",
      "29\n"
     ]
    }
   ],
   "source": [
    "#Третьим аргументом можно указать шаг \n",
    "#между элементами последовательности - step\n",
    "for x in range(2, 30, 3):\n",
    "  print(x)"
   ]
  },
  {
   "cell_type": "markdown",
   "id": "3fa70ab9-d63f-4b55-ad68-1803963be388",
   "metadata": {},
   "source": [
    "## Оператор Else после цикла For\n",
    "Ключевое слово else используется когда нужно выполнить блок кода который исполнится после завершения цикла"
   ]
  },
  {
   "cell_type": "code",
   "execution_count": 15,
   "id": "21a83bb8-3c78-4ea2-b7b1-182ad3e902b9",
   "metadata": {},
   "outputs": [
    {
     "name": "stdout",
     "output_type": "stream",
     "text": [
      "0\n",
      "1\n",
      "2\n",
      "3\n",
      "4\n",
      "5\n",
      "Finally finished!\n"
     ]
    }
   ],
   "source": [
    "for x in range(6):\n",
    "  print(x)\n",
    "else:\n",
    "  print(\"Finally finished!\") "
   ]
  },
  {
   "cell_type": "code",
   "execution_count": 17,
   "id": "e2531fca-3da5-46ce-a1dc-6ca77c06e468",
   "metadata": {},
   "outputs": [
    {
     "name": "stdout",
     "output_type": "stream",
     "text": [
      "0\n",
      "1\n",
      "2\n"
     ]
    }
   ],
   "source": [
    "#Важно!\n",
    "#блок else не исполнится если цикл будет прерван при помощи break\n",
    "for x in range(6):\n",
    "  if x == 3: break\n",
    "  print(x)\n",
    "else:\n",
    "  print(\"Finally finished!\") "
   ]
  },
  {
   "cell_type": "markdown",
   "id": "6f683d0e-de6b-4791-a517-9e7ad1cb330c",
   "metadata": {},
   "source": [
    "## Вложенные циклы\n",
    "Вложенные циклы - это циклы внутри циклов\n",
    "Вложенный цикл будет исполнен один раз для каждой внешней итерации"
   ]
  },
  {
   "cell_type": "code",
   "execution_count": 18,
   "id": "9d43dbd9-ac97-462d-a639-321bda2d402c",
   "metadata": {},
   "outputs": [
    {
     "name": "stdout",
     "output_type": "stream",
     "text": [
      "red apple\n",
      "red banana\n",
      "red cherry\n",
      "big apple\n",
      "big banana\n",
      "big cherry\n",
      "tasty apple\n",
      "tasty banana\n",
      "tasty cherry\n"
     ]
    }
   ],
   "source": [
    "adj = [\"red\", \"big\", \"tasty\"]\n",
    "fruits = [\"apple\", \"banana\", \"cherry\"]\n",
    "\n",
    "for x in adj:\n",
    "  for y in fruits:\n",
    "    print(x, y) "
   ]
  },
  {
   "cell_type": "markdown",
   "id": "408f1f30-4ac2-4372-bff1-585664c33c9d",
   "metadata": {},
   "source": [
    "## Задание 1\n",
    "Write a program that prints the numbers from 1 to 20. But for multiples of three print “Fizz” instead of the number and for the multiples of five print “Buzz”. For numbers which are multiples of both three and five print “FizzBuzz”."
   ]
  },
  {
   "cell_type": "code",
   "execution_count": null,
   "id": "5110bba5-34ce-4dbd-9db6-4535299c52e4",
   "metadata": {},
   "outputs": [],
   "source": []
  },
  {
   "cell_type": "markdown",
   "id": "be356c8c-ff30-4723-b6c7-6fd9bb979aa4",
   "metadata": {},
   "source": [
    "## Задание 2\n",
    "Given an array of integers.\n",
    "\n",
    "Return an array, where the first element is the count of positives numbers and the second element is sum of negative numbers. 0 is neither positive nor negative.\n",
    "\n",
    "If the input is an empty array or is null, return an empty array.\n",
    "Example\n",
    "\n",
    "For input [1, 2, 3, 4, 5, 6, 7, 8, 9, 10, -11, -12, -13, -14, -15], you should return [10, -65].\n"
   ]
  },
  {
   "cell_type": "code",
   "execution_count": null,
   "id": "f6514018-5dd6-49e7-8e36-904bbfbff5b4",
   "metadata": {},
   "outputs": [],
   "source": []
  }
 ],
 "metadata": {
  "kernelspec": {
   "display_name": "Python 3 (ipykernel)",
   "language": "python",
   "name": "python3"
  },
  "language_info": {
   "codemirror_mode": {
    "name": "ipython",
    "version": 3
   },
   "file_extension": ".py",
   "mimetype": "text/x-python",
   "name": "python",
   "nbconvert_exporter": "python",
   "pygments_lexer": "ipython3",
   "version": "3.10.4"
  }
 },
 "nbformat": 4,
 "nbformat_minor": 5
}
