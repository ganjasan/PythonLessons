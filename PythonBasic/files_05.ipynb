{
 "cells": [
  {
   "cell_type": "markdown",
   "id": "e8cd51be",
   "metadata": {},
   "source": [
    "### Функция open\n",
    "\n",
    "Встроенная функция `open` используется для чтения из файла и записи в файл. \n",
    "Первый аргумент - название или путь к файлу\n",
    "Второй аргумент `mode` определяет как мы хотим работать с файлом (открыть на чтение или запись)\n",
    "\n",
    "\n",
    "|Режим|Описание|\n",
    "|---|---|\n",
    "r|Открыть файл на чтение. Если файла нет выдаст ошибку (режим по умолчанию)\t\t\n",
    "w|Открыть файл на запись. Если файла нет создаст новый. Если файл существует перезапишет его.\n",
    "x|Создать файл только если он не существует. Если файл существует вызовет ошибку\t\t\n",
    "a|Открыть файл и продожлить записывать в конец файла. Если файл существует продолжит писать в конец. Если файла нет создаст новый\t\n",
    "t|Открыть в текстовом режиме (режим по умолчанию)\t\t\n",
    "b|Открыть в бинарном режиме\t\t\n",
    "+|Открыть файл для обновления (чтения и записи)\n",
    "\n",
    "Режимы могут быть объеденены, к примеру `rb` - это режим 'открыть на чтение в бинарном режиме'\n",
    "\n",
    "Третий аргумент - кодировка(encoding). Этот аргумент нужен только в текстовом режиме и задает кодировку файла\n",
    "\n",
    "функция `open` возвращает объект помогающий читать и записывать строки, символы или байты в файл"
   ]
  },
  {
   "cell_type": "code",
   "execution_count": 3,
   "id": "a245a249",
   "metadata": {},
   "outputs": [],
   "source": [
    "#создадим и откроем файл\n",
    "f = open('file.txt', 'w')\n",
    "\n",
    "#можно проверить, что файл с именем `file.txt` был создан в той же директории что и текущий урок\n",
    "\n",
    "#закроем файл\n",
    "f.close()"
   ]
  },
  {
   "cell_type": "code",
   "execution_count": 4,
   "id": "760458d1",
   "metadata": {},
   "outputs": [],
   "source": [
    "# откроем файл на чтение,\n",
    "f = open('file.txt') \n",
    "#по умолчанию задан режим  `rt` (чтение в текстовом режиме), т.е тоже самое что f = open('file.txt', 'rt')\n",
    "f.close()"
   ]
  },
  {
   "cell_type": "code",
   "execution_count": 6,
   "id": "04d2a4f9",
   "metadata": {},
   "outputs": [
    {
     "ename": "FileNotFoundError",
     "evalue": "[Errno 2] No such file or directory: 'new_file.txt'",
     "output_type": "error",
     "traceback": [
      "\u001b[0;31m---------------------------------------------------------------------------\u001b[0m",
      "\u001b[0;31mFileNotFoundError\u001b[0m                         Traceback (most recent call last)",
      "Input \u001b[0;32mIn [6]\u001b[0m, in \u001b[0;36m<cell line: 2>\u001b[0;34m()\u001b[0m\n\u001b[1;32m      1\u001b[0m \u001b[38;5;66;03m#если мы попытаемся открыть на чтение не существующий файл, то будет вызвана ошибка `No such file`\u001b[39;00m\n\u001b[0;32m----> 2\u001b[0m f \u001b[38;5;241m=\u001b[39m \u001b[38;5;28;43mopen\u001b[39;49m\u001b[43m(\u001b[49m\u001b[38;5;124;43m'\u001b[39;49m\u001b[38;5;124;43mnew_file.txt\u001b[39;49m\u001b[38;5;124;43m'\u001b[39;49m\u001b[43m)\u001b[49m\n",
      "\u001b[0;31mFileNotFoundError\u001b[0m: [Errno 2] No such file or directory: 'new_file.txt'"
     ]
    }
   ],
   "source": [
    "#если мы попытаемся открыть на чтение не существующий файл, то будет вызвана ошибка `No such file`\n",
    "f = open('new_file.txt')"
   ]
  },
  {
   "cell_type": "markdown",
   "id": "a004ec35",
   "metadata": {},
   "source": [
    "### Относительные и обсолютные пути\n",
    "Путь к файлу, который мы передаем в качестве первого аргумента могут быть относительными, т.е. задаваться от текущей дериктории пайтон файла, или абсолютными, т.е задаваться от корневой директории (Linux) или диска (Windows)"
   ]
  },
  {
   "cell_type": "code",
   "execution_count": 1,
   "id": "cab0000d",
   "metadata": {},
   "outputs": [],
   "source": [
    "#относительный путь задается от текущей дериктории\n",
    "f = open('new_relative_file.txt', 'x')\n",
    "#файл `new_relative_file.txt` будет создан в той же папке что и текущий файл исполняемый файл\n",
    "\n",
    "#точно такого же результат можно добиться, если перед названием файла поставить точку\n",
    "f = open('./new_relative_file_with_dot.txt', 'x')\n",
    "# `./` в данном случае означает 'в текущей дериктории'\n",
    "\n",
    "#кроме текущей директории мы можем указать путь относительно родительской директориии\n",
    "f = open('../parent_relative_file.txt', 'x')\n",
    "#файл 'parent_relative_file.txt' будет создан в родительской директории. '../' - озночает родительскую директории относительно текущей\n",
    "\n",
    "# `../`можно использовать несколько раз если мы хотим подняться на несколько уровней\n",
    "f = open('../../parent_parent_relative_file.txt', 'x')"
   ]
  },
  {
   "cell_type": "code",
   "execution_count": null,
   "id": "fb3a95eb",
   "metadata": {},
   "outputs": [],
   "source": [
    "#абсолютный путь задается от корневого диска или директории\n",
    "f = open(\"C:/Python38/README.txt\", 'x')"
   ]
  },
  {
   "cell_type": "markdown",
   "id": "0ac2a85e",
   "metadata": {},
   "source": [
    "### Чтение из файла\n",
    "\n",
    "Для чтения из файла есть несколько методов\n",
    "`read(size)` - без аргументов читает весь файл. В качестве аргумента может принимать количество символов (в текстовом режиме) или байт (в бинарном)\n",
    "`readline()` - читай одну строку файла"
   ]
  },
  {
   "cell_type": "code",
   "execution_count": 5,
   "id": "4466c362",
   "metadata": {},
   "outputs": [
    {
     "name": "stdout",
     "output_type": "stream",
     "text": [
      "Hello world!\n",
      "The end.\n",
      "\n"
     ]
    }
   ],
   "source": [
    "#откроем файл и прочитаем его полностью\n",
    "f = open('./fixtures/files_05/text.txt')\n",
    "content = f.read()\n",
    "print(content)\n",
    "f.close()"
   ]
  },
  {
   "cell_type": "code",
   "execution_count": 6,
   "id": "9e6c1e2b",
   "metadata": {},
   "outputs": [
    {
     "name": "stdout",
     "output_type": "stream",
     "text": [
      "Hello\n"
     ]
    }
   ],
   "source": [
    "#Откроем файл и прочитаем первые 5 символов\n",
    "f = open('./fixtures/files_05/text.txt')\n",
    "content = f.read(5)\n",
    "print(content)\n",
    "f.close()"
   ]
  },
  {
   "cell_type": "code",
   "execution_count": 15,
   "id": "b0481e54",
   "metadata": {},
   "outputs": [
    {
     "name": "stdout",
     "output_type": "stream",
     "text": [
      "Hello world!\n",
      "\n",
      "The end.\n",
      "\n",
      "\n"
     ]
    }
   ],
   "source": [
    "#Прочитаем несколько строк\n",
    "f = open('./fixtures/files_05/text.txt')\n",
    "print(f.readline())\n",
    "print(f.readline())\n",
    "print(f.readline())\n",
    "f.close()"
   ]
  },
  {
   "cell_type": "code",
   "execution_count": 16,
   "id": "5a5ec2ea",
   "metadata": {},
   "outputs": [
    {
     "name": "stdout",
     "output_type": "stream",
     "text": [
      "Hello world!\n",
      "\n",
      "The end.\n",
      "\n"
     ]
    }
   ],
   "source": [
    "#Можно прочитать файл построчно используя цикл\n",
    "f = open('./fixtures/files_05/text.txt')\n",
    "for line in f:\n",
    "    print(line)\n",
    "f.close()"
   ]
  },
  {
   "cell_type": "markdown",
   "id": "a5fbd968",
   "metadata": {},
   "source": [
    "### Запись в файл\n",
    "Для записи в файл используется метод `write(string)`. Метод принимает строку, записывает в файл и возвращает количество записаных символов"
   ]
  },
  {
   "cell_type": "code",
   "execution_count": 19,
   "id": "e849c67a",
   "metadata": {},
   "outputs": [],
   "source": [
    "#файл нужно открыть в нужном режиме\n",
    "#cейчас я хочу открыть существующий файл и дописать в него данные. Для этого используется режим 'a'\n",
    "\n",
    "f = open('./fixtures/files_05/text.txt', 'a')\n",
    "f.write('Absolute end!')\n",
    "# Для сохранения новых данных в файле его обязательно нужно закрыть\n",
    "f.close()"
   ]
  },
  {
   "cell_type": "markdown",
   "id": "600e96d1",
   "metadata": {},
   "source": [
    "### Обработка ошибок\n",
    "В ходе работы с файлом может произойти ошибка, например нехватка оперативной памяти.\n",
    "Если не отлавливать ошибки, то программа экстренно закончит свою работу, но не закроет файл\n",
    "\n",
    "Для работы с файлами и другими устройствами которые требуют открытия/закрытия существует конструкция with"
   ]
  },
  {
   "cell_type": "code",
   "execution_count": 1,
   "id": "4251d652",
   "metadata": {},
   "outputs": [],
   "source": [
    "#самый правильный способ работы с файлами выглядит следующим образом \n",
    "with open('./fixtures/files_05/text.txt', 'a') as f:\n",
    "    f.write(\"New line!\")\n",
    "    \n",
    "#Мы открываем файл и задаем ему имя `f` (as f).\n",
    "#После выхода из структуры with или ошибки файл автоматически будет закрыт"
   ]
  },
  {
   "cell_type": "markdown",
   "id": "c726067f",
   "metadata": {},
   "source": [
    "### Модуль json\n",
    "Для записи в файл структур вроде списка или словаря при помощи write придется реализовать достаточно сложную логику. К счастью разработчики python уже реализовали все за нас. модуль `json` позволяет сохранять python структуры в в json файлы и читать такие файлы"
   ]
  },
  {
   "cell_type": "markdown",
   "id": "78e80058",
   "metadata": {},
   "source": [
    "В модуле json нужно запомнить четыре основных метода\n",
    "\n",
    "json.loads(string) - преобразует JSON строку в Python объект\n",
    "\n",
    "json.dumps(object) - преобразует Python объект в JSON строку\n",
    "\n",
    "json.load(file) - преобразует JSON файл в Python объект\n",
    "\n",
    "json.dump(object, file) - сохраняет Python объект в JSON файл"
   ]
  },
  {
   "cell_type": "code",
   "execution_count": 4,
   "id": "6593686e",
   "metadata": {},
   "outputs": [
    {
     "name": "stdout",
     "output_type": "stream",
     "text": [
      "John\n"
     ]
    }
   ],
   "source": [
    "import json\n",
    "\n",
    "json_string = '{ \"name\":\"John\", \"age\":30, \"city\":\"New York\"}'\n",
    "python_object = json.loads(json_string)\n",
    "\n",
    "print(python_object['name'])"
   ]
  },
  {
   "cell_type": "code",
   "execution_count": 6,
   "id": "6d974b39",
   "metadata": {},
   "outputs": [
    {
     "data": {
      "text/plain": [
       "'[{\"name\": \"Artem\", \"age\": 28}, {\"name\": \"Antonina\", \"age\": 25}]'"
      ]
     },
     "execution_count": 6,
     "metadata": {},
     "output_type": "execute_result"
    }
   ],
   "source": [
    "import json\n",
    "\n",
    "python_object = [{'name':'Artem', \"age\": 28}, {'name':'Antonina', \"age\": 24}]\n",
    "json_string = json.dumps(python_object)\n",
    "\n",
    "json_string"
   ]
  },
  {
   "cell_type": "code",
   "execution_count": 11,
   "id": "a12ed139",
   "metadata": {},
   "outputs": [
    {
     "name": "stdout",
     "output_type": "stream",
     "text": [
      "John\n",
      "Artem\n",
      "Antonina\n"
     ]
    }
   ],
   "source": [
    "import json\n",
    "\n",
    "with open('./fixtures/files_05/people.json') as f:\n",
    "    people = json.load(f)\n",
    "\n",
    "    \n",
    "for p in people:\n",
    "    print(p['name'])"
   ]
  },
  {
   "cell_type": "code",
   "execution_count": 15,
   "id": "3a3da2ab",
   "metadata": {},
   "outputs": [],
   "source": [
    "import json\n",
    "\n",
    "objects = [{'name':'Artem', \"age\": 28}, {'name':'Antonina', \"age\": 24}]\n",
    "\n",
    "with open('./results/people.json', 'w') as fp:\n",
    "    json.dump(objects, fp)"
   ]
  },
  {
   "cell_type": "markdown",
   "id": "a6219235",
   "metadata": {},
   "source": [
    "### CSV\n",
    "Модуль, который позволяет построчно читать и писать CSV файлы"
   ]
  },
  {
   "cell_type": "code",
   "execution_count": 18,
   "id": "6f0314f0",
   "metadata": {},
   "outputs": [
    {
     "name": "stdout",
     "output_type": "stream",
     "text": [
      "['name', 'lat', 'lng']\n",
      "['Bishkek', '42.882004', '74.582748']\n",
      "['Jalal Abad', '40.933155', '72.981491']\n",
      "['Osh', '40.513996', '72.816101']\n"
     ]
    }
   ],
   "source": [
    "#Простой пример чтения из csv файла\n",
    "import csv\n",
    "\n",
    "with open('./fixtures/files_05/simple_cities.csv') as f:\n",
    "    reader = csv.reader(f) #для чтения из файла нам необходимо создать reader. Разделитель по умолчанию - запятая\n",
    "    for row in reader: #и прочитать кажду строку из reader\n",
    "        print(row)"
   ]
  },
  {
   "cell_type": "code",
   "execution_count": 20,
   "id": "b06f2ba6",
   "metadata": {},
   "outputs": [
    {
     "name": "stdout",
     "output_type": "stream",
     "text": [
      "['name', 'lat', 'lng']\n",
      "['Bishkek', '42.882004', '74.582748']\n",
      "['Jalal;Abad', '40.933155', '72.981491']\n",
      "['Osh', '40.513996', '72.816101']\n"
     ]
    }
   ],
   "source": [
    "#Мы можем определить в  reader разделитель и quote символ\n",
    "\n",
    "import csv\n",
    "\n",
    "with open('./fixtures/files_05/advanced_city.csv') as f:\n",
    "    reader = csv.reader(f, delimiter=';', quotechar='\"')\n",
    "    for row in reader:\n",
    "        print(row)\n",
    "        \n",
    "#quotechar позволяет в именах использователь разделитель, в примере имя города Jalal;Abad"
   ]
  },
  {
   "cell_type": "code",
   "execution_count": 22,
   "id": "0ac3d3ce",
   "metadata": {},
   "outputs": [
    {
     "name": "stdout",
     "output_type": "stream",
     "text": [
      "{'name': 'Bishkek', 'lat': '42.882004', 'lng': '74.582748'}\n",
      "{'name': 'Jalal Abad', 'lat': '40.933155', 'lng': '72.981491'}\n",
      "{'name': 'Osh', 'lat': '40.513996', 'lng': '72.816101'}\n"
     ]
    }
   ],
   "source": [
    "#Обычно CSV файл мы хотим преобразовать в список словарей\n",
    "#[{'name': 'Bishkek', 'lat':'42.882004', 'lng':74.582748}, {...}]\n",
    "\n",
    "#Для этого используется DictReader. По умолчанию он читает первую строку как заголовок с ключами.\n",
    "\n",
    "import csv\n",
    "with open('./fixtures/files_05/simple_cities.csv') as csvfile:\n",
    "    reader = csv.DictReader(csvfile)\n",
    "    for row in reader:\n",
    "        print(row)"
   ]
  },
  {
   "cell_type": "code",
   "execution_count": 24,
   "id": "97814f1c",
   "metadata": {},
   "outputs": [
    {
     "name": "stdout",
     "output_type": "stream",
     "text": [
      "{'name': 'Bishkek', 'lat': '42.882004', 'lng': '74.582748'}\n",
      "{'name': 'Jalal Abad', 'lat': '40.933155', 'lng': '72.981491'}\n",
      "{'name': 'Osh', 'lat': '40.513996', 'lng': '72.816101'}\n"
     ]
    }
   ],
   "source": [
    "#Завершим примером с обработкой ошибок\n",
    "import csv\n",
    "filename = './fixtures/files_05/simple_cities.csv'\n",
    "with open(filename) as csvfile:\n",
    "    reader = csv.DictReader(csvfile)\n",
    "    try:\n",
    "        for row in reader:\n",
    "            print(row)\n",
    "    except csv.Error as e:\n",
    "        sys.exit('file {}, line {}: {}'.format(filename, reader.line_num, e))"
   ]
  },
  {
   "cell_type": "code",
   "execution_count": 25,
   "id": "3bc37be2",
   "metadata": {},
   "outputs": [],
   "source": [
    "#Модуль csv позволяет не только читать но писать в csv файлы\n",
    "\n",
    "#Можно записать список списков\n",
    "import csv\n",
    "cities = [['name', 'lat', 'lng'], ['Bishkek', 42.882004, 74.582748], ['Jalal Abad', 40.933155, 72.981491]]\n",
    "with open('./results/simple_cities.csv', 'w', newline='') as f:\n",
    "    writer = csv.writer(f)\n",
    "    writer.writerows(cities)"
   ]
  },
  {
   "cell_type": "code",
   "execution_count": 30,
   "id": "f8b4d529",
   "metadata": {},
   "outputs": [],
   "source": [
    "#Или записать список словарей с одинаковой структурой\n",
    "import csv\n",
    "cities = [\n",
    "    {'name': 'Bishkek', 'lat': '42.882004', 'lng': '74.582748'},\n",
    "    {'name': 'Jalal Abad', 'lat': '40.933155', 'lng': '72.981491'},\n",
    "    {'name': 'Osh', 'lat': '40.513996', 'lng': '72.816101'}\n",
    "]\n",
    "\n",
    "with open('./results/advanced_cities.csv', 'w') as f:\n",
    "    fieldnames = ['name', 'lat', 'lng']  \n",
    "    writer = csv.DictWriter(f, fieldnames=fieldnames) #В DictWriter нам необходимо передать именя полей\n",
    "    writer.writeheader() #первой строкой пишем заголовок \n",
    "    \n",
    "    writer.writerows(cities)"
   ]
  },
  {
   "cell_type": "markdown",
   "id": "bce48202",
   "metadata": {},
   "source": [
    "### Задание\n",
    "GeoJson - это файловая структура которая хранит гео объекты. Спецификацию на файл можно найти здесь https://geojson.org/\n",
    "\n",
    "Часто бывают ситуации, когда координаты хранятся в csv файла, а вся полезная информация в JSON\n",
    "\n",
    "'./fixtures/files_05/task_city_coords.csv' - хранит координаты трёх городов\n",
    "'./fixtures/files_05/task_city_info.json' - хранит информацию об этих городах\n",
    "\n",
    "последовательность городов в файлах одинаковая, т.е. координаты первого города из csv файла соответствуют информации о первом городе из json файла и т.д.\n",
    "\n",
    "Ваша задача сформировать рабочий geojson файл и открыть его в Qgis"
   ]
  },
  {
   "cell_type": "code",
   "execution_count": null,
   "id": "6761c8c2",
   "metadata": {},
   "outputs": [],
   "source": []
  }
 ],
 "metadata": {
  "kernelspec": {
   "display_name": "Python 3 (ipykernel)",
   "language": "python",
   "name": "python3"
  },
  "language_info": {
   "codemirror_mode": {
    "name": "ipython",
    "version": 3
   },
   "file_extension": ".py",
   "mimetype": "text/x-python",
   "name": "python",
   "nbconvert_exporter": "python",
   "pygments_lexer": "ipython3",
   "version": "3.10.6"
  }
 },
 "nbformat": 4,
 "nbformat_minor": 5
}
