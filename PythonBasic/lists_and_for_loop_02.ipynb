{
 "cells": [
  {
   "cell_type": "markdown",
   "id": "8c300eef",
   "metadata": {
    "tags": []
   },
   "source": [
    "## Lists(Списки)"
   ]
  },
  {
   "cell_type": "markdown",
   "id": "9ca7b194",
   "metadata": {},
   "source": [
    "Списки задаются при помощи скобок []"
   ]
  },
  {
   "cell_type": "code",
   "execution_count": 2,
   "id": "9044c920",
   "metadata": {},
   "outputs": [
    {
     "data": {
      "text/plain": [
       "[3, 7, 4, 2]"
      ]
     },
     "execution_count": 2,
     "metadata": {},
     "output_type": "execute_result"
    }
   ],
   "source": [
    "# Создание списка\n",
    "z = [3, 7, 4, 2]\n",
    "z"
   ]
  },
  {
   "cell_type": "markdown",
   "id": "b3e0a14a",
   "metadata": {},
   "source": [
    "### Доступ к элементам списка"
   ]
  },
  {
   "cell_type": "code",
   "execution_count": null,
   "id": "ca55e614",
   "metadata": {},
   "outputs": [],
   "source": [
    "#Индексация списка всегда начинается с 0\n",
    "#Возьмеме первый элемент списка\n",
    "# 0 1 2 3\n",
    "z[0]"
   ]
  },
  {
   "cell_type": "code",
   "execution_count": null,
   "id": "ed968670",
   "metadata": {},
   "outputs": [],
   "source": [
    "#Возьмеме последний элемент списка\n",
    "z[3]"
   ]
  },
  {
   "cell_type": "code",
   "execution_count": null,
   "id": "24e835a7",
   "metadata": {},
   "outputs": [],
   "source": [
    "#Индексация может идти в обратную сторону, но начинается с -1\n",
    "#-4 -3 -2 -1\n",
    "\n",
    "#Возьмем последний элемент списка\n",
    "z[-1]"
   ]
  },
  {
   "cell_type": "code",
   "execution_count": null,
   "id": "fbf1315c",
   "metadata": {},
   "outputs": [],
   "source": [
    "#Функция len позволяет узнать длину списку\n",
    "len(z)"
   ]
  },
  {
   "cell_type": "code",
   "execution_count": 3,
   "id": "d6fc6017-9237-4971-ad04-81c2bde09993",
   "metadata": {},
   "outputs": [
    {
     "ename": "IndexError",
     "evalue": "list index out of range",
     "output_type": "error",
     "traceback": [
      "\u001b[0;31m---------------------------------------------------------------------------\u001b[0m",
      "\u001b[0;31mIndexError\u001b[0m                                Traceback (most recent call last)",
      "Input \u001b[0;32mIn [3]\u001b[0m, in \u001b[0;36m<cell line: 2>\u001b[0;34m()\u001b[0m\n\u001b[1;32m      1\u001b[0m \u001b[38;5;66;03m#поиск по индексу которого нет в списке вернет ошибку\u001b[39;00m\n\u001b[0;32m----> 2\u001b[0m \u001b[43mz\u001b[49m\u001b[43m[\u001b[49m\u001b[38;5;241;43m100\u001b[39;49m\u001b[43m]\u001b[49m\n",
      "\u001b[0;31mIndexError\u001b[0m: list index out of range"
     ]
    }
   ],
   "source": [
    "#поиск по индексу которого нет в списке вернет ошибку\n",
    "z[100]"
   ]
  },
  {
   "cell_type": "code",
   "execution_count": null,
   "id": "3f420118",
   "metadata": {},
   "outputs": [],
   "source": [
    "#Возьмем последний элемент списка. Код заведомо написан не правильно. Твоя задача его исправить\n",
    "z[len(z)]"
   ]
  },
  {
   "cell_type": "markdown",
   "id": "ec636c26",
   "metadata": {},
   "source": [
    "### Slicing Lists"
   ]
  },
  {
   "cell_type": "code",
   "execution_count": null,
   "id": "12dd5a34",
   "metadata": {},
   "outputs": [],
   "source": [
    "#Можно выделить часть списка при оператора slice - [a:b:c], где a -индекс с которого начать(включительно), \n",
    "#b - индекс которым закончится списко (невключая), c шаг - с которым берутся индексы между a и b\n",
    "\n",
    "# c нелевого по второй индекс(не включая второй индекс)\n",
    "z[0:2]"
   ]
  },
  {
   "cell_type": "code",
   "execution_count": null,
   "id": "c1f7f573",
   "metadata": {},
   "outputs": [],
   "source": [
    "#Все до 3-го индекса\n",
    "z[:3]"
   ]
  },
  {
   "cell_type": "code",
   "execution_count": null,
   "id": "056ce8e3",
   "metadata": {},
   "outputs": [],
   "source": [
    "#C первого индекса и до конца\n",
    "z[1:]"
   ]
  },
  {
   "cell_type": "code",
   "execution_count": 19,
   "id": "dbd32d73-4981-41b9-964d-f070bc9ecb37",
   "metadata": {},
   "outputs": [
    {
     "data": {
      "text/plain": [
       "[3, 7, 4, 2]"
      ]
     },
     "execution_count": 19,
     "metadata": {},
     "output_type": "execute_result"
    }
   ],
   "source": [
    "#все элементы - таким образом можно копировать списки\n",
    "z[:]"
   ]
  },
  {
   "cell_type": "code",
   "execution_count": 16,
   "id": "8d42d823-f2d5-4c3f-9e03-dbdde7d574b0",
   "metadata": {},
   "outputs": [
    {
     "data": {
      "text/plain": [
       "[7, 2]"
      ]
     },
     "execution_count": 16,
     "metadata": {},
     "output_type": "execute_result"
    }
   ],
   "source": [
    "#каждый второй элемент\n",
    "z[1::2]"
   ]
  },
  {
   "cell_type": "code",
   "execution_count": 18,
   "id": "8665c497-c05c-4bd3-b89d-42b1b32aa951",
   "metadata": {},
   "outputs": [
    {
     "data": {
      "text/plain": [
       "[2, 4, 7, 3]"
      ]
     },
     "execution_count": 18,
     "metadata": {},
     "output_type": "execute_result"
    }
   ],
   "source": [
    "#развернуть список\n",
    "z[::-1]"
   ]
  },
  {
   "cell_type": "markdown",
   "id": "0392385d-4746-4bce-9c16-286616da7389",
   "metadata": {},
   "source": [
    "### Операции над списками"
   ]
  },
  {
   "cell_type": "code",
   "execution_count": null,
   "id": "6188d7ba",
   "metadata": {},
   "outputs": [],
   "source": [
    "#минимум\n",
    "min(z)"
   ]
  },
  {
   "cell_type": "code",
   "execution_count": null,
   "id": "f44acec6",
   "metadata": {},
   "outputs": [],
   "source": [
    "#максимум\n",
    "max(z)"
   ]
  },
  {
   "cell_type": "code",
   "execution_count": null,
   "id": "bc77cfed",
   "metadata": {},
   "outputs": [],
   "source": [
    "#сумма значений в списке\n",
    "sum(z)"
   ]
  },
  {
   "cell_type": "code",
   "execution_count": null,
   "id": "d200482c",
   "metadata": {},
   "outputs": [],
   "source": [
    "#Расчитать сколько раз элемент встретился в списке\n",
    "random_list = [4, 1, 5, 4, 10, 4]\n",
    "random_list.count(4)"
   ]
  },
  {
   "cell_type": "code",
   "execution_count": null,
   "id": "e4be9048",
   "metadata": {},
   "outputs": [],
   "source": [
    "#вернуть первый первый индекс элемента\n",
    "random_list.index(4)"
   ]
  },
  {
   "cell_type": "code",
   "execution_count": null,
   "id": "a86eca27",
   "metadata": {},
   "outputs": [],
   "source": [
    "# you can specify where you start your search. list.index(value, start)\n",
    "random_list.index(4, 3)"
   ]
  },
  {
   "cell_type": "code",
   "execution_count": null,
   "id": "baa40bcb",
   "metadata": {},
   "outputs": [],
   "source": [
    "#Можно задать начало поиска и конец\n",
    "#list.index(value, [start, stop])\n",
    "random_list.index(4, 5, 6)\n"
   ]
  },
  {
   "cell_type": "markdown",
   "id": "f245b90d",
   "metadata": {},
   "source": [
    "## Сортировка списков"
   ]
  },
  {
   "cell_type": "code",
   "execution_count": 78,
   "id": "ea834941",
   "metadata": {},
   "outputs": [],
   "source": [
    "x = [3, 7, 2, 11, 8, 10, 4]\n",
    "y = ['Steve', 'Rachel', 'Michael', 'Adam', 'Monica', 'Jessica', 'Lester']"
   ]
  },
  {
   "cell_type": "code",
   "execution_count": null,
   "id": "081269e9",
   "metadata": {},
   "outputs": [],
   "source": [
    "# Сортировка с имзменением исходного списка\n",
    "# low to high\n",
    "x.sort()\n",
    "print(x)"
   ]
  },
  {
   "cell_type": "code",
   "execution_count": null,
   "id": "a661b6d7",
   "metadata": {},
   "outputs": [],
   "source": [
    "# high to low\n",
    "x.sort(reverse = True)\n",
    "print(x)"
   ]
  },
  {
   "cell_type": "code",
   "execution_count": null,
   "id": "2db12b8a",
   "metadata": {},
   "outputs": [],
   "source": [
    "# Сортировка строк\n",
    "# A-Z\n",
    "y.sort()\n",
    "print(y)"
   ]
  },
  {
   "cell_type": "code",
   "execution_count": null,
   "id": "bce822f3",
   "metadata": {},
   "outputs": [],
   "source": [
    "# Z-A\n",
    "y.sort(reverse = True)\n",
    "print(y)"
   ]
  },
  {
   "cell_type": "code",
   "execution_count": null,
   "id": "c88d8e67",
   "metadata": {},
   "outputs": [],
   "source": [
    "# sсортировка без изменения исходного списка\n",
    "y = ['Steve', 'Rachel', 'Michael', 'Adam', 'Monica', 'Jessica', 'Lester']\n",
    "\n",
    "new_list = sorted(y)\n",
    "new_list"
   ]
  },
  {
   "cell_type": "code",
   "execution_count": null,
   "id": "f55bfb19",
   "metadata": {},
   "outputs": [],
   "source": [
    "#Cам y не изменился\n",
    "y"
   ]
  },
  {
   "cell_type": "markdown",
   "id": "298e840f",
   "metadata": {},
   "source": [
    "### Изменение списка"
   ]
  },
  {
   "cell_type": "code",
   "execution_count": 77,
   "id": "f62f7ba6",
   "metadata": {},
   "outputs": [
    {
     "data": {
      "text/plain": [
       "257"
      ]
     },
     "execution_count": 77,
     "metadata": {},
     "output_type": "execute_result"
    }
   ],
   "source": [
    "x"
   ]
  },
  {
   "cell_type": "code",
   "execution_count": 8,
   "id": "a13e7ad9-b199-4a20-8c03-a53b0bd46a8f",
   "metadata": {},
   "outputs": [
    {
     "data": {
      "text/plain": [
       "[3, 7, 10, 10, 8, 10, 4]"
      ]
     },
     "execution_count": 8,
     "metadata": {},
     "output_type": "execute_result"
    }
   ],
   "source": [
    "#Можно просто заменить элемент списка по индексу\n",
    "x[2] = 10\n",
    "x"
   ]
  },
  {
   "cell_type": "code",
   "execution_count": null,
   "id": "c35d6902",
   "metadata": {},
   "outputs": [],
   "source": [
    "#Вставка элемента в конец списка\n",
    "x.append(12)\n",
    "x"
   ]
  },
  {
   "cell_type": "code",
   "execution_count": null,
   "id": "e9f5c51b",
   "metadata": {},
   "outputs": [],
   "source": [
    "#Удалить первый встретившийся элемент из списка\n",
    "x.remove(10)\n",
    "x"
   ]
  },
  {
   "cell_type": "code",
   "execution_count": null,
   "id": "ae385b6b",
   "metadata": {},
   "outputs": [],
   "source": [
    "#Забрать элемент из списка по индексу\n",
    "x.pop(3)"
   ]
  },
  {
   "cell_type": "code",
   "execution_count": null,
   "id": "db103733",
   "metadata": {},
   "outputs": [],
   "source": [
    "x"
   ]
  },
  {
   "cell_type": "code",
   "execution_count": null,
   "id": "202bff99",
   "metadata": {},
   "outputs": [],
   "source": [
    "#Соеденить два списка (расширить)\n",
    "x.extend([3, 6, 9])\n",
    "x"
   ]
  },
  {
   "cell_type": "code",
   "execution_count": 79,
   "id": "83b6a904-05a1-4e0f-a653-188421be86e4",
   "metadata": {},
   "outputs": [
    {
     "name": "stdout",
     "output_type": "stream",
     "text": [
      "3 in list\n"
     ]
    }
   ],
   "source": [
    "# оператор  in позволяет проверить есть ли значение в списке\n",
    "if 3 in x:\n",
    "    print(\"3 in list\")"
   ]
  },
  {
   "cell_type": "markdown",
   "id": "820607d2",
   "metadata": {},
   "source": [
    "Задание\n",
    "1.Cписок состоит из 10 элементов.\n",
    "Переместить три последних элемента из конца в начало списка без нарушения их исходного порядка."
   ]
  },
  {
   "cell_type": "code",
   "execution_count": null,
   "id": "ca3f180b",
   "metadata": {},
   "outputs": [],
   "source": [
    "x = [1,2,3,4,5,6,7,8,9,10]\n"
   ]
  },
  {
   "cell_type": "code",
   "execution_count": 80,
   "id": "8adc409a-9e9e-4655-8f63-8dda8a95a7bb",
   "metadata": {},
   "outputs": [],
   "source": [
    "# Задание 2\n",
    "# [1,2,3,4,5,6,7,8,9,10] -> [1,0,3,0,5,0,7,0,8,0] "
   ]
  },
  {
   "cell_type": "code",
   "execution_count": null,
   "id": "cc2b6e7e-7331-4d99-9c4f-4bbe6bf3a7d4",
   "metadata": {},
   "outputs": [],
   "source": [
    "x = [1,2,3,4,5,6,7,8,9,10]"
   ]
  },
  {
   "cell_type": "markdown",
   "id": "7828f411",
   "metadata": {},
   "source": [
    "Можно попробовать другие методы работы со списками"
   ]
  },
  {
   "cell_type": "markdown",
   "id": "edd01b39",
   "metadata": {},
   "source": [
    "Метод|Что делает\n",
    "---|---\n",
    "list.append(x)|\tДобавляет элемент в конец списка\n",
    "list.extend(L)|\tРасширяет список list, добавляя в конец все элементы списка L\n",
    "list.insert(i, x)|\tВставляет на i-ый элемент значение x\n",
    "list.remove(x)|\tУдаляет первый элемент в списке, имеющий значение x. ValueError, если такого элемента не существует\n",
    "list.pop([i])|\tУдаляет i-ый элемент и возвращает его. Если индекс не указан, удаляется последний элемент\n",
    "list.index(x, [start [, end]])|\tВозвращает положение первого элемента со значением x (при этом поиск ведется от start до end)\n",
    "list.count(x)|\tВозвращает количество элементов со значением x\n",
    "list.sort([key=функция])|\tСортирует список на основе функции\n",
    "list.reverse()|\tРазворачивает список\n",
    "list.copy()|\tПоверхностная копия списка\n",
    "list.clear()|\tОчищает список"
   ]
  },
  {
   "cell_type": "markdown",
   "id": "e4334453-9e48-42b4-81b9-8e49c6ed97d9",
   "metadata": {},
   "source": [
    "# Mutable and imutable objects"
   ]
  },
  {
   "cell_type": "markdown",
   "id": "90d96616-e662-4c4b-b059-4b95bfd9d0b6",
   "metadata": {},
   "source": [
    "На этом этапе необходимо ввести понятия изменеяемые(mutable) и не изменяемые объекты(imutable)\n",
    "\n",
    "Все в Python представлено в виде объектов. Числа, строки, списки, функции, модули - все есть объект.\n",
    "\n",
    "Объекты могут быть изменяемые, т.е. вы можете изменить их содержимое во время исполнения программы и не изменяемые"
   ]
  },
  {
   "cell_type": "code",
   "execution_count": 28,
   "id": "ba3e50f9-289b-4dcf-8ce4-ffcdde324df8",
   "metadata": {},
   "outputs": [
    {
     "name": "stdout",
     "output_type": "stream",
     "text": [
      "<class 'bool'>\n",
      "<class 'int'>\n",
      "<class 'float'>\n",
      "<class 'str'>\n"
     ]
    }
   ],
   "source": [
    "#Тип объекта можно узнать при помощи функции type()\n",
    "#Не изменяемые типы, которые мы уже узнали\n",
    "\n",
    "print(type(True))\n",
    "print(type(1))\n",
    "print(type(3.14))\n",
    "print(type('hello world'))"
   ]
  },
  {
   "cell_type": "code",
   "execution_count": 30,
   "id": "b37d70b6-7bd5-4ab6-a86a-888f8f542fd3",
   "metadata": {},
   "outputs": [
    {
     "name": "stdout",
     "output_type": "stream",
     "text": [
      "<class 'tuple'>\n",
      "<class 'frozenset'>\n"
     ]
    }
   ],
   "source": [
    "#другие immutable типы\n",
    "print(type((0,0)))\n",
    "print(type(frozenset(\"abc\")))"
   ]
  },
  {
   "cell_type": "code",
   "execution_count": 36,
   "id": "6a86399c-29ee-4f12-b3ba-b109e43b332d",
   "metadata": {},
   "outputs": [
    {
     "name": "stdout",
     "output_type": "stream",
     "text": [
      "<class 'list'>\n",
      "<class 'dict'>\n",
      "<class 'set'>\n"
     ]
    }
   ],
   "source": [
    "#Изменяемые(mutable) типы\n",
    "print(type([]))\n",
    "print(type({}))\n",
    "print(type({\"a\",\"b\"}))"
   ]
  },
  {
   "cell_type": "code",
   "execution_count": 37,
   "id": "26263898-be36-4c25-b92e-4dca40dd1d4b",
   "metadata": {},
   "outputs": [
    {
     "data": {
      "text/plain": [
       "140605988815376"
      ]
     },
     "execution_count": 37,
     "metadata": {},
     "output_type": "execute_result"
    }
   ],
   "source": [
    "#функция id() возвращает идентификатор объекта. В базовой реализации python это номер ячейки памяти в которой хранится значение\n",
    "x = 10\n",
    "id(x)"
   ]
  },
  {
   "cell_type": "code",
   "execution_count": 45,
   "id": "117d148d-b6f9-49c0-8707-2c0b0323aad0",
   "metadata": {},
   "outputs": [
    {
     "name": "stdout",
     "output_type": "stream",
     "text": [
      "140605327657872\n",
      "140605327657872\n",
      "True\n"
     ]
    }
   ],
   "source": [
    "#Посмотрим как ведут себя не изменяемые типы\n",
    "x = 7891\n",
    "print(id(x))\n",
    "y = x\n",
    "print(id(y))\n",
    "print(id(x)==id(y))"
   ]
  },
  {
   "cell_type": "markdown",
   "id": "e0a9dfca-dfe7-4e37-aefb-36620fd43697",
   "metadata": {},
   "source": [
    "т.е при операции y = x не создается новый объект, а на ячейку в памяти в которой хранится число 7891 ссылается новая переменная."
   ]
  },
  {
   "cell_type": "code",
   "execution_count": 46,
   "id": "cb6ed140-81db-43f9-a187-c57c472c7b0c",
   "metadata": {},
   "outputs": [
    {
     "name": "stdout",
     "output_type": "stream",
     "text": [
      "140605327657872\n",
      "140605327658224\n",
      "7892\n"
     ]
    }
   ],
   "source": [
    "#А теперь попытаемся изменить значение в переменной x\n",
    "print(id(x))\n",
    "x = x+1\n",
    "print(id(x))\n",
    "print(x)"
   ]
  },
  {
   "cell_type": "markdown",
   "id": "09994e50-7f5c-4c6b-9c17-b8b8b4e8458e",
   "metadata": {},
   "source": [
    "теперь x ссылается на новый объект, который хранит значение 7892, и его id совсем другой"
   ]
  },
  {
   "cell_type": "code",
   "execution_count": 60,
   "id": "ff920b6c-6f05-4c9e-817b-d217de2d8a82",
   "metadata": {},
   "outputs": [
    {
     "name": "stdout",
     "output_type": "stream",
     "text": [
      "True\n",
      "True\n"
     ]
    }
   ],
   "source": [
    "#На самом деле дапазон целых чисел -5:256 всегда хранится в памяти при запуске python\n",
    "x=-5\n",
    "y=-5\n",
    "print(id(x)==id(y))\n",
    "\n",
    "x=256\n",
    "y=256\n",
    "print(id(x)==id(y))"
   ]
  },
  {
   "cell_type": "code",
   "execution_count": 61,
   "id": "c22c370f-0ab0-478b-992d-4bdd9ba6bca0",
   "metadata": {},
   "outputs": [
    {
     "name": "stdout",
     "output_type": "stream",
     "text": [
      "False\n",
      "False\n"
     ]
    }
   ],
   "source": [
    "#Значения вне этого диапазона создаются в памяти при каждом новом обращении\n",
    "x = -6\n",
    "y = -6\n",
    "print(id(x)==id(y))\n",
    "\n",
    "x = 257\n",
    "y = 257\n",
    "print(id(x)==id(y))"
   ]
  },
  {
   "cell_type": "markdown",
   "id": "10a0b041-a075-4056-b59a-a2bc740ffc99",
   "metadata": {},
   "source": [
    "Теперь посмотрим на изменяемые объекты."
   ]
  },
  {
   "cell_type": "code",
   "execution_count": 71,
   "id": "2974b317-3ed0-47e7-8b56-73e425cdb2dd",
   "metadata": {},
   "outputs": [
    {
     "name": "stdout",
     "output_type": "stream",
     "text": [
      "[0, 1, 2, 3, 4]\n"
     ]
    },
    {
     "data": {
      "text/plain": [
       "140605327610432"
      ]
     },
     "execution_count": 71,
     "metadata": {},
     "output_type": "execute_result"
    }
   ],
   "source": [
    "l = [0,1,2,3,4]\n",
    "print(l)\n",
    "id(l)"
   ]
  },
  {
   "cell_type": "code",
   "execution_count": 72,
   "id": "10f0bab5-0b52-4057-a53d-be2bde20c735",
   "metadata": {},
   "outputs": [
    {
     "name": "stdout",
     "output_type": "stream",
     "text": [
      "[0, 1, 10, 3, 4]\n",
      "140605327610432\n"
     ]
    }
   ],
   "source": [
    "l[2] = 10\n",
    "print(l)\n",
    "print(id(l))"
   ]
  },
  {
   "cell_type": "markdown",
   "id": "895ece57-699f-47af-baba-19067ee896d5",
   "metadata": {},
   "source": [
    "Сейчас мы изменили один из элементов списка, но идентификатор списка не поменялся.\n",
    "Бывают задачи, когда нам необходимо оставить исходный список неизменным. Для этого нам нужно скопировать список"
   ]
  },
  {
   "cell_type": "code",
   "execution_count": 73,
   "id": "8b95572f-1a6a-4c9b-9c7f-4f16a1d57a0e",
   "metadata": {},
   "outputs": [
    {
     "data": {
      "text/plain": [
       "140605327680448"
      ]
     },
     "execution_count": 73,
     "metadata": {},
     "output_type": "execute_result"
    }
   ],
   "source": [
    "#Для копирования списка можно воспользовать slice\n",
    "l_2 = l[:]\n",
    "id(l_2)"
   ]
  },
  {
   "cell_type": "code",
   "execution_count": 74,
   "id": "c9cddf2b-d139-4850-ba06-faaa51d5d5f1",
   "metadata": {},
   "outputs": [
    {
     "name": "stdout",
     "output_type": "stream",
     "text": [
      "[0, 1, 10, 3, 4]\n",
      "[0, 1, 2, 3, 4]\n"
     ]
    }
   ],
   "source": [
    "l_2[2] = 2\n",
    "print(l)\n",
    "print(l_2)"
   ]
  },
  {
   "cell_type": "code",
   "execution_count": 75,
   "id": "8cd6e7ae-9fa0-4f15-9ad7-50b131bc639c",
   "metadata": {},
   "outputs": [
    {
     "data": {
      "text/plain": [
       "140605327610432"
      ]
     },
     "execution_count": 75,
     "metadata": {},
     "output_type": "execute_result"
    }
   ],
   "source": [
    "#другой способ вызов метода copy модуля copy\n",
    "from copy import copy\n",
    "new_l = copy(l)\n",
    "id(l)"
   ]
  },
  {
   "cell_type": "markdown",
   "id": "4fe0a505-3250-4dbf-b652-e42d86984656",
   "metadata": {},
   "source": [
    "Особое внимание стоит уделить строкам несмотря на то, что к элементам строки можно обращаться по индексу и делать slice, строки - не именные элементы"
   ]
  },
  {
   "cell_type": "code",
   "execution_count": 81,
   "id": "f4fe6170-1d31-4d3a-a05c-fe6cce83e38a",
   "metadata": {},
   "outputs": [],
   "source": [
    "s = \"Hello World\""
   ]
  },
  {
   "cell_type": "code",
   "execution_count": null,
   "id": "6e8321de-f573-477e-888a-eece112ef8ea",
   "metadata": {},
   "outputs": [],
   "source": [
    "s."
   ]
  }
 ],
 "metadata": {
  "kernelspec": {
   "display_name": "Python 3 (ipykernel)",
   "language": "python",
   "name": "python3"
  },
  "language_info": {
   "codemirror_mode": {
    "name": "ipython",
    "version": 3
   },
   "file_extension": ".py",
   "mimetype": "text/x-python",
   "name": "python",
   "nbconvert_exporter": "python",
   "pygments_lexer": "ipython3",
   "version": "3.10.4"
  }
 },
 "nbformat": 4,
 "nbformat_minor": 5
}
